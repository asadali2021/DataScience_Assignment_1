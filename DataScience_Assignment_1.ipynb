{
 "cells": [
  {
   "cell_type": "code",
   "execution_count": 1,
   "id": "757625e5",
   "metadata": {},
   "outputs": [
    {
     "name": "stdout",
     "output_type": "stream",
     "text": [
      "Twinkle, twinkle little star,\n",
      "\tHow I wonder what you are!\n",
      "\t \tUp above the world so high,\n",
      "\t \tLike a diamond in the sky.\n",
      "Twinkle,twinkle, little star,\n",
      "\tHow I wonder what you are\n"
     ]
    }
   ],
   "source": [
    "'''  Q:1 Write a python program to print the following string in a specific\n",
    "format (see the output).\n",
    "Twinkle, twinkle little star, \n",
    "       How I wonder what you are!\n",
    "               Up above the world so high,\n",
    "               Like a diamond in the sky.\n",
    "Twinkle,twinkle, little star,\n",
    "        How I wonder what you are'''\n",
    "\n",
    "\n",
    "#    ********     Solution      ********\n",
    "\n",
    "str_1 = \"Twinkle, twinkle little star,\";\n",
    "str_2 = \"How I wonder what you are!\";\n",
    "str_3 = \"Up above the world so high,\";\n",
    "str_4 = \"Like a diamond in the sky.\";\n",
    "str_5 = \"Twinkle,twinkle, little star,\";\n",
    "str_6 = \"How I wonder what you are\";\n",
    "\n",
    "print(str_1 + \"\\n\" + \"\\t\"+ str_2 + \"\\n\" + \"\\t \\t\" + str_3 +\"\\n\" + \"\\t \\t\" + str_4 + \"\\n\" + str_5 + \"\\n\" + \"\\t\" + str_6 );"
   ]
  },
  {
   "cell_type": "code",
   "execution_count": 2,
   "id": "ab4c9ab9",
   "metadata": {},
   "outputs": [
    {
     "name": "stdout",
     "output_type": "stream",
     "text": [
      "The Python version i am using is: 3.8.8\n"
     ]
    }
   ],
   "source": [
    "#  Q:2 Write a program to get the Python version you are using\n",
    "\n",
    "# ********   Solution       **********  \n",
    "\n",
    "from platform import python_version;\n",
    "\n",
    "print(\"The Python version i am using is: \"+python_version());"
   ]
  },
  {
   "cell_type": "code",
   "execution_count": 11,
   "id": "8532a96b",
   "metadata": {},
   "outputs": [
    {
     "name": "stdout",
     "output_type": "stream",
     "text": [
      "The current date and time are: \n",
      "The date is: 31-12-2021 \n",
      "The time is: + 11:02:34\n"
     ]
    }
   ],
   "source": [
    "#  Q:3 Write a Python program to display the current date and time\n",
    "\n",
    "# ****** Solution   **********\n",
    "\n",
    "import datetime;\n",
    "Current_date_and_time = datetime.datetime.now();\n",
    "print (\"The current date and time are: \" + Current_date_and_time.strftime(\"\\n\"+ \"The date is: \"+\"%d-%m-%Y \"+\"\\n\" + \"The time is:\" \" + %H:%M:%S\"));"
   ]
  },
  {
   "cell_type": "code",
   "execution_count": 12,
   "id": "39421a49",
   "metadata": {},
   "outputs": [
    {
     "name": "stdout",
     "output_type": "stream",
     "text": [
      "Enter the radius in meter (m) of the circle you want the area of: 4\n",
      "The area of the circle with radius 4.0 is: 50.26548245743669 meter squared\n"
     ]
    }
   ],
   "source": [
    "'''  Q:4 Write a Python program which accepts the radius of a circle\n",
    "from the user and compute the area '''\n",
    "\n",
    "#    ******  Solution  **********\n",
    "#  Using single * as a multiply and double ** to use as a Power of 2\n",
    "\n",
    "from math import pi;\n",
    "Radius_of_circle = float(input (\"Enter the radius in meter (m) of the circle you want the area of: \"));\n",
    "print (\"The area of the circle with radius \" + str(Radius_of_circle) + \" is: \" + str(pi * Radius_of_circle**2) + \" meter squared\");"
   ]
  },
  {
   "cell_type": "code",
   "execution_count": 13,
   "id": "903be404",
   "metadata": {},
   "outputs": [
    {
     "name": "stdout",
     "output_type": "stream",
     "text": [
      "Enter your first name: Syed Asad\n",
      "Enter your last name: Ali\n",
      "Your name in reverse order: Ali Syed Asad\n"
     ]
    }
   ],
   "source": [
    "'''  Q:5 Write a Python program which accepts the user's first and last name\n",
    "and print them in reverse order with a space in between them '''\n",
    "\n",
    "#     ******  Solution    ******\n",
    "\n",
    "first_name = input(\"Enter your first name: \");\n",
    "last_name = input(\"Enter your last name: \");\n",
    "print(\"Your name in reverse order: \" + last_name + \" \" + first_name);"
   ]
  },
  {
   "cell_type": "code",
   "execution_count": 14,
   "id": "4ca7e165",
   "metadata": {},
   "outputs": [
    {
     "name": "stdout",
     "output_type": "stream",
     "text": [
      "Enter first number: 4\n",
      "Enter second number: 4\n",
      "The addition of the two numbers you entered is: 8.0\n"
     ]
    }
   ],
   "source": [
    "'''Q:6 Write a Python program which takes two inputs from user and print them  \n",
    "addition'''\n",
    "\n",
    "#     ******  SOlution   ********\n",
    "\n",
    "num_1 = float(input(\"Enter first number: \"));\n",
    "num_2 = float(input(\"Enter second number: \"));\n",
    "addition = num_1+num_2;\n",
    "print(\"The addition of the two numbers you entered is: \" + str(addition));"
   ]
  }
 ],
 "metadata": {
  "kernelspec": {
   "display_name": "Python 3",
   "language": "python",
   "name": "python3"
  },
  "language_info": {
   "codemirror_mode": {
    "name": "ipython",
    "version": 3
   },
   "file_extension": ".py",
   "mimetype": "text/x-python",
   "name": "python",
   "nbconvert_exporter": "python",
   "pygments_lexer": "ipython3",
   "version": "3.8.8"
  }
 },
 "nbformat": 4,
 "nbformat_minor": 5
}
